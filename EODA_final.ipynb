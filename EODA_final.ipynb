{
 "cells": [
  {
   "cell_type": "code",
   "execution_count": 1,
   "id": "f9fe0149-1956-4941-9c0e-ba97636de2af",
   "metadata": {},
   "outputs": [
    {
     "name": "stdout",
     "output_type": "stream",
     "text": [
      "Requirement already satisfied: thermobar in c:\\users\\holly\\anaconda3\\lib\\site-packages (0.0.18)\n",
      "Requirement already satisfied: python-ternary in c:\\users\\holly\\anaconda3\\lib\\site-packages (from thermobar) (1.0.8)\n",
      "Requirement already satisfied: pandas in c:\\users\\holly\\anaconda3\\lib\\site-packages (from thermobar) (1.2.4)\n",
      "Requirement already satisfied: statsmodels in c:\\users\\holly\\anaconda3\\lib\\site-packages (from thermobar) (0.12.2)\n",
      "Requirement already satisfied: scipy in c:\\users\\holly\\anaconda3\\lib\\site-packages (from thermobar) (1.6.2)\n",
      "Requirement already satisfied: scikit-learn in c:\\users\\holly\\anaconda3\\lib\\site-packages (from thermobar) (0.24.1)\n",
      "Requirement already satisfied: numpy in c:\\users\\holly\\anaconda3\\lib\\site-packages (from thermobar) (1.20.1)\n",
      "Requirement already satisfied: matplotlib in c:\\users\\holly\\anaconda3\\lib\\site-packages (from thermobar) (3.3.4)\n",
      "Requirement already satisfied: openpyxl in c:\\users\\holly\\anaconda3\\lib\\site-packages (from thermobar) (3.0.7)\n",
      "Requirement already satisfied: pillow>=6.2.0 in c:\\users\\holly\\anaconda3\\lib\\site-packages (from matplotlib->thermobar) (8.2.0)\n",
      "Requirement already satisfied: cycler>=0.10 in c:\\users\\holly\\anaconda3\\lib\\site-packages (from matplotlib->thermobar) (0.10.0)\n",
      "Requirement already satisfied: pyparsing!=2.0.4,!=2.1.2,!=2.1.6,>=2.0.3 in c:\\users\\holly\\anaconda3\\lib\\site-packages (from matplotlib->thermobar) (2.4.7)\n",
      "Requirement already satisfied: kiwisolver>=1.0.1 in c:\\users\\holly\\anaconda3\\lib\\site-packages (from matplotlib->thermobar) (1.3.1)\n",
      "Requirement already satisfied: python-dateutil>=2.1 in c:\\users\\holly\\anaconda3\\lib\\site-packages (from matplotlib->thermobar) (2.8.1)\n",
      "Requirement already satisfied: six in c:\\users\\holly\\anaconda3\\lib\\site-packages (from cycler>=0.10->matplotlib->thermobar) (1.15.0)\n",
      "Requirement already satisfied: et-xmlfile in c:\\users\\holly\\anaconda3\\lib\\site-packages (from openpyxl->thermobar) (1.0.1)\n",
      "Requirement already satisfied: pytz>=2017.3 in c:\\users\\holly\\anaconda3\\lib\\site-packages (from pandas->thermobar) (2021.1)\n",
      "Requirement already satisfied: threadpoolctl>=2.0.0 in c:\\users\\holly\\anaconda3\\lib\\site-packages (from scikit-learn->thermobar) (2.1.0)\n",
      "Requirement already satisfied: joblib>=0.11 in c:\\users\\holly\\anaconda3\\lib\\site-packages (from scikit-learn->thermobar) (1.0.1)\n",
      "Requirement already satisfied: patsy>=0.5 in c:\\users\\holly\\anaconda3\\lib\\site-packages (from statsmodels->thermobar) (0.5.1)\n"
     ]
    }
   ],
   "source": [
    "!pip install thermobar"
   ]
  },
  {
   "cell_type": "code",
   "execution_count": 2,
   "id": "ef2d2dfd-2428-43b6-be6e-b31484beb575",
   "metadata": {},
   "outputs": [],
   "source": [
    "import numpy as np\n",
    "import pandas as pd\n",
    "import matplotlib.pyplot as plt\n",
    "import Thermobar as pt"
   ]
  },
  {
   "cell_type": "markdown",
   "id": "fba116f2-336c-448a-b50f-498955c41697",
   "metadata": {},
   "source": [
    "I imported numpy, pandas, matplotlib, and thermobar (this allowed me to get pressures and temperatures)"
   ]
  },
  {
   "cell_type": "code",
   "execution_count": 3,
   "id": "3b77009a-0cba-4010-8458-2d0334a95f68",
   "metadata": {},
   "outputs": [],
   "source": [
    "out=pt.import_excel('ASW31,35,30,33,34_Pop1+2_Cpx Real.xlsx', sheet_name=\"pop2_asw30\")\n",
    "my_input=out['my_input']\n",
    "Liqs=out['Liqs']\n",
    "Cpxs=out['Cpxs']"
   ]
  },
  {
   "cell_type": "markdown",
   "id": "3b62ead5-6671-4b27-9a71-712d370cc334",
   "metadata": {},
   "source": [
    "This is the excel file imported for the crystals I wanted to get T and P for. "
   ]
  },
  {
   "cell_type": "code",
   "execution_count": 4,
   "id": "4c823954-6686-42ce-b1b2-c0a7e4084ff5",
   "metadata": {},
   "outputs": [
    {
     "data": {
      "text/html": [
       "<div>\n",
       "<style scoped>\n",
       "    .dataframe tbody tr th:only-of-type {\n",
       "        vertical-align: middle;\n",
       "    }\n",
       "\n",
       "    .dataframe tbody tr th {\n",
       "        vertical-align: top;\n",
       "    }\n",
       "\n",
       "    .dataframe thead th {\n",
       "        text-align: right;\n",
       "    }\n",
       "</style>\n",
       "<table border=\"1\" class=\"dataframe\">\n",
       "  <thead>\n",
       "    <tr style=\"text-align: right;\">\n",
       "      <th></th>\n",
       "      <th>SiO2_Liq</th>\n",
       "      <th>TiO2_Liq</th>\n",
       "      <th>Al2O3_Liq</th>\n",
       "      <th>FeOt_Liq</th>\n",
       "      <th>MnO_Liq</th>\n",
       "      <th>MgO_Liq</th>\n",
       "      <th>CaO_Liq</th>\n",
       "      <th>Na2O_Liq</th>\n",
       "      <th>K2O_Liq</th>\n",
       "      <th>Cr2O3_Liq</th>\n",
       "      <th>P2O5_Liq</th>\n",
       "      <th>H2O_Liq</th>\n",
       "      <th>Fe3Fet_Liq</th>\n",
       "      <th>NiO_Liq</th>\n",
       "      <th>CoO_Liq</th>\n",
       "      <th>CO2_Liq</th>\n",
       "      <th>Sample_ID_Liq</th>\n",
       "    </tr>\n",
       "  </thead>\n",
       "  <tbody>\n",
       "    <tr>\n",
       "      <th>0</th>\n",
       "      <td>59.48</td>\n",
       "      <td>1.076</td>\n",
       "      <td>19.31</td>\n",
       "      <td>5.34</td>\n",
       "      <td>0.11</td>\n",
       "      <td>3.32</td>\n",
       "      <td>6.8</td>\n",
       "      <td>4.57</td>\n",
       "      <td>0.0</td>\n",
       "      <td>0.008</td>\n",
       "      <td>0.23</td>\n",
       "      <td>0.0</td>\n",
       "      <td>0.0</td>\n",
       "      <td>0.0</td>\n",
       "      <td>0.0</td>\n",
       "      <td>0.0</td>\n",
       "      <td>0</td>\n",
       "    </tr>\n",
       "    <tr>\n",
       "      <th>1</th>\n",
       "      <td>59.48</td>\n",
       "      <td>1.076</td>\n",
       "      <td>19.31</td>\n",
       "      <td>5.34</td>\n",
       "      <td>0.11</td>\n",
       "      <td>3.32</td>\n",
       "      <td>6.8</td>\n",
       "      <td>4.57</td>\n",
       "      <td>0.0</td>\n",
       "      <td>0.008</td>\n",
       "      <td>0.23</td>\n",
       "      <td>0.0</td>\n",
       "      <td>0.0</td>\n",
       "      <td>0.0</td>\n",
       "      <td>0.0</td>\n",
       "      <td>0.0</td>\n",
       "      <td>1</td>\n",
       "    </tr>\n",
       "    <tr>\n",
       "      <th>2</th>\n",
       "      <td>59.48</td>\n",
       "      <td>1.076</td>\n",
       "      <td>19.31</td>\n",
       "      <td>5.34</td>\n",
       "      <td>0.11</td>\n",
       "      <td>3.32</td>\n",
       "      <td>6.8</td>\n",
       "      <td>4.57</td>\n",
       "      <td>0.0</td>\n",
       "      <td>0.008</td>\n",
       "      <td>0.23</td>\n",
       "      <td>0.0</td>\n",
       "      <td>0.0</td>\n",
       "      <td>0.0</td>\n",
       "      <td>0.0</td>\n",
       "      <td>0.0</td>\n",
       "      <td>2</td>\n",
       "    </tr>\n",
       "    <tr>\n",
       "      <th>3</th>\n",
       "      <td>59.48</td>\n",
       "      <td>1.076</td>\n",
       "      <td>19.31</td>\n",
       "      <td>5.34</td>\n",
       "      <td>0.11</td>\n",
       "      <td>3.32</td>\n",
       "      <td>6.8</td>\n",
       "      <td>4.57</td>\n",
       "      <td>0.0</td>\n",
       "      <td>0.008</td>\n",
       "      <td>0.23</td>\n",
       "      <td>0.0</td>\n",
       "      <td>0.0</td>\n",
       "      <td>0.0</td>\n",
       "      <td>0.0</td>\n",
       "      <td>0.0</td>\n",
       "      <td>3</td>\n",
       "    </tr>\n",
       "    <tr>\n",
       "      <th>4</th>\n",
       "      <td>59.48</td>\n",
       "      <td>1.076</td>\n",
       "      <td>19.31</td>\n",
       "      <td>5.34</td>\n",
       "      <td>0.11</td>\n",
       "      <td>3.32</td>\n",
       "      <td>6.8</td>\n",
       "      <td>4.57</td>\n",
       "      <td>0.0</td>\n",
       "      <td>0.008</td>\n",
       "      <td>0.23</td>\n",
       "      <td>0.0</td>\n",
       "      <td>0.0</td>\n",
       "      <td>0.0</td>\n",
       "      <td>0.0</td>\n",
       "      <td>0.0</td>\n",
       "      <td>4</td>\n",
       "    </tr>\n",
       "  </tbody>\n",
       "</table>\n",
       "</div>"
      ],
      "text/plain": [
       "   SiO2_Liq  TiO2_Liq  Al2O3_Liq  FeOt_Liq  MnO_Liq  MgO_Liq  CaO_Liq  \\\n",
       "0     59.48     1.076      19.31      5.34     0.11     3.32      6.8   \n",
       "1     59.48     1.076      19.31      5.34     0.11     3.32      6.8   \n",
       "2     59.48     1.076      19.31      5.34     0.11     3.32      6.8   \n",
       "3     59.48     1.076      19.31      5.34     0.11     3.32      6.8   \n",
       "4     59.48     1.076      19.31      5.34     0.11     3.32      6.8   \n",
       "\n",
       "   Na2O_Liq  K2O_Liq  Cr2O3_Liq  P2O5_Liq  H2O_Liq  Fe3Fet_Liq  NiO_Liq  \\\n",
       "0      4.57      0.0      0.008      0.23      0.0         0.0      0.0   \n",
       "1      4.57      0.0      0.008      0.23      0.0         0.0      0.0   \n",
       "2      4.57      0.0      0.008      0.23      0.0         0.0      0.0   \n",
       "3      4.57      0.0      0.008      0.23      0.0         0.0      0.0   \n",
       "4      4.57      0.0      0.008      0.23      0.0         0.0      0.0   \n",
       "\n",
       "   CoO_Liq  CO2_Liq  Sample_ID_Liq  \n",
       "0      0.0      0.0              0  \n",
       "1      0.0      0.0              1  \n",
       "2      0.0      0.0              2  \n",
       "3      0.0      0.0              3  \n",
       "4      0.0      0.0              4  "
      ]
     },
     "metadata": {},
     "output_type": "display_data"
    },
    {
     "data": {
      "text/html": [
       "<div>\n",
       "<style scoped>\n",
       "    .dataframe tbody tr th:only-of-type {\n",
       "        vertical-align: middle;\n",
       "    }\n",
       "\n",
       "    .dataframe tbody tr th {\n",
       "        vertical-align: top;\n",
       "    }\n",
       "\n",
       "    .dataframe thead th {\n",
       "        text-align: right;\n",
       "    }\n",
       "</style>\n",
       "<table border=\"1\" class=\"dataframe\">\n",
       "  <thead>\n",
       "    <tr style=\"text-align: right;\">\n",
       "      <th></th>\n",
       "      <th>SiO2_Cpx</th>\n",
       "      <th>TiO2_Cpx</th>\n",
       "      <th>Al2O3_Cpx</th>\n",
       "      <th>FeOt_Cpx</th>\n",
       "      <th>MnO_Cpx</th>\n",
       "      <th>MgO_Cpx</th>\n",
       "      <th>CaO_Cpx</th>\n",
       "      <th>Na2O_Cpx</th>\n",
       "      <th>K2O_Cpx</th>\n",
       "      <th>Cr2O3_Cpx</th>\n",
       "      <th>Sample_ID_Cpx</th>\n",
       "    </tr>\n",
       "  </thead>\n",
       "  <tbody>\n",
       "    <tr>\n",
       "      <th>0</th>\n",
       "      <td>51.48</td>\n",
       "      <td>0.82</td>\n",
       "      <td>3.25</td>\n",
       "      <td>7.95</td>\n",
       "      <td>0.17</td>\n",
       "      <td>16.47</td>\n",
       "      <td>19.30</td>\n",
       "      <td>0.30</td>\n",
       "      <td>0.0</td>\n",
       "      <td>0.27</td>\n",
       "      <td>0</td>\n",
       "    </tr>\n",
       "    <tr>\n",
       "      <th>1</th>\n",
       "      <td>50.69</td>\n",
       "      <td>0.81</td>\n",
       "      <td>3.76</td>\n",
       "      <td>7.94</td>\n",
       "      <td>0.19</td>\n",
       "      <td>15.30</td>\n",
       "      <td>20.86</td>\n",
       "      <td>0.40</td>\n",
       "      <td>0.0</td>\n",
       "      <td>0.04</td>\n",
       "      <td>1</td>\n",
       "    </tr>\n",
       "    <tr>\n",
       "      <th>2</th>\n",
       "      <td>51.41</td>\n",
       "      <td>0.67</td>\n",
       "      <td>3.56</td>\n",
       "      <td>6.24</td>\n",
       "      <td>0.16</td>\n",
       "      <td>16.13</td>\n",
       "      <td>20.77</td>\n",
       "      <td>0.49</td>\n",
       "      <td>0.0</td>\n",
       "      <td>0.56</td>\n",
       "      <td>2</td>\n",
       "    </tr>\n",
       "    <tr>\n",
       "      <th>3</th>\n",
       "      <td>51.38</td>\n",
       "      <td>0.78</td>\n",
       "      <td>3.65</td>\n",
       "      <td>8.18</td>\n",
       "      <td>0.19</td>\n",
       "      <td>16.48</td>\n",
       "      <td>18.59</td>\n",
       "      <td>0.40</td>\n",
       "      <td>0.0</td>\n",
       "      <td>0.36</td>\n",
       "      <td>3</td>\n",
       "    </tr>\n",
       "    <tr>\n",
       "      <th>4</th>\n",
       "      <td>50.84</td>\n",
       "      <td>0.97</td>\n",
       "      <td>4.46</td>\n",
       "      <td>6.97</td>\n",
       "      <td>0.16</td>\n",
       "      <td>16.11</td>\n",
       "      <td>19.90</td>\n",
       "      <td>0.41</td>\n",
       "      <td>0.0</td>\n",
       "      <td>0.18</td>\n",
       "      <td>4</td>\n",
       "    </tr>\n",
       "  </tbody>\n",
       "</table>\n",
       "</div>"
      ],
      "text/plain": [
       "   SiO2_Cpx  TiO2_Cpx  Al2O3_Cpx  FeOt_Cpx  MnO_Cpx  MgO_Cpx  CaO_Cpx  \\\n",
       "0     51.48      0.82       3.25      7.95     0.17    16.47    19.30   \n",
       "1     50.69      0.81       3.76      7.94     0.19    15.30    20.86   \n",
       "2     51.41      0.67       3.56      6.24     0.16    16.13    20.77   \n",
       "3     51.38      0.78       3.65      8.18     0.19    16.48    18.59   \n",
       "4     50.84      0.97       4.46      6.97     0.16    16.11    19.90   \n",
       "\n",
       "   Na2O_Cpx  K2O_Cpx  Cr2O3_Cpx  Sample_ID_Cpx  \n",
       "0      0.30      0.0       0.27              0  \n",
       "1      0.40      0.0       0.04              1  \n",
       "2      0.49      0.0       0.56              2  \n",
       "3      0.40      0.0       0.36              3  \n",
       "4      0.41      0.0       0.18              4  "
      ]
     },
     "metadata": {},
     "output_type": "display_data"
    }
   ],
   "source": [
    "display(Liqs.head())\n",
    "display(Cpxs.head())"
   ]
  },
  {
   "cell_type": "markdown",
   "id": "ead8b0a7-620d-467d-82d3-6dfeb45bbe5e",
   "metadata": {},
   "source": [
    "This is my excel data "
   ]
  },
  {
   "cell_type": "code",
   "execution_count": 5,
   "id": "c25e238f-2a07-4031-aefe-e3eece1785ff",
   "metadata": {},
   "outputs": [
    {
     "name": "stdout",
     "output_type": "stream",
     "text": [
      "Help on function calculate_cpx_liq_press in module Thermobar.clinopyroxene_thermobarometry:\n",
      "\n",
      "calculate_cpx_liq_press(*, equationP, cpx_comps=None, liq_comps=None, meltmatch=None, T=None, eq_tests=False, Fe3Fet_Liq=None, H2O_Liq=None, sigma=1, Kd_Err=0.03)\n",
      "    Clinopyroxene-Liquid barometer, calculates pressure in kbar\n",
      "    (and equilibrium tests as an option)\n",
      "    \n",
      "    Parameters\n",
      "    -------\n",
      "    \n",
      "    cpx_comps: pandas.DataFrame\n",
      "        Clinopyroxene compositions with column headings SiO2_Cpx, MgO_Cpx etc.\n",
      "    \n",
      "    liq_comps: pandas.DataFrame\n",
      "        Liquid compositions with column headings SiO2_Liq, MgO_Liq etc.\n",
      "    \n",
      "    EquationP: str\n",
      "        choose from:\n",
      "    \n",
      "        |  P_Put1996_eqP1 (T-dep, H2O-indep)\n",
      "        |  P_Mas2013_eqPalk1 (T-dep, H2O-indep, alk adaption of P1)\n",
      "        |  P_Put1996_eqP2 (T-dep, H2O-indep)\n",
      "        |  P_Mas2013_eqPalk2 (T-dep, H2O-indep, alk adaption of P2)\n",
      "        |  P_Put2003 ((T-dep, H2O-indep)\n",
      "        |  P_Neave2017 (T-dep, H2O-indep)\n",
      "        |  P_Put2008_eq30 (T-dep, H2O-dep)\n",
      "        |  P_Put2008_eq31 (T-dep, H2O-dep)\n",
      "        |  P_Put2008_eq32c (T-dep, H2O-dep)\n",
      "        |  P_Mas2013_eqalk32c (T-dep, H2O-dep, alk adaption of 32c)\n",
      "    \n",
      "    T: float, int, pandas.Series, str\n",
      "        Temperature in Kelvin to perform calculations at.\n",
      "        Only needed for T-sensitive barometers.\n",
      "        If enter T=\"Solve\", returns a partial function\n",
      "        Else, enter an integer, float, or panda series\n",
      "    \n",
      "    eq_tests: bool\n",
      "        If False, just returns pressure (default) as a panda series\n",
      "        If True, returns pressure, Values of Eq tests,\n",
      "        as well as user-entered cpx and liq comps and components\n",
      "    \n",
      "    Returns\n",
      "    -----------\n",
      "    Pressure in kbar: pandas.Series\n",
      "        If eq_tests is False\n",
      "    \n",
      "    Pressure in kbar + eq Tests + input compositions: pandas.DataFrame\n",
      "        If eq_tests is True\n",
      "\n"
     ]
    }
   ],
   "source": [
    "help(pt.calculate_cpx_liq_press)"
   ]
  },
  {
   "cell_type": "code",
   "execution_count": 6,
   "id": "dde6d1a3-d9f1-4343-9626-70df085517dd",
   "metadata": {},
   "outputs": [
    {
     "name": "stdout",
     "output_type": "stream",
     "text": [
      "Help on function P_Neave2017 in module Thermobar.clinopyroxene_thermobarometry:\n",
      "\n",
      "P_Neave2017(T, *, lnK_Jd_liq, DiHd_2003, Al_Liq_cat_frac, Na_Liq_cat_frac, K_Liq_cat_frac)\n",
      "    Clinopyroxene-liquid barometer of Neave and Putirka (2017)\n",
      "    :cite:`neave2017new`\n",
      "    \n",
      "    SEE=+-1.4 kbar\n",
      "\n"
     ]
    }
   ],
   "source": [
    "help(pt.P_Neave2017)"
   ]
  },
  {
   "cell_type": "markdown",
   "id": "9c4c7daf-3d1c-473a-b88e-4eef9b254e24",
   "metadata": {},
   "source": [
    "This is the clinopyroxene-liquid barometer I used to get T and P. "
   ]
  },
  {
   "cell_type": "code",
   "execution_count": 7,
   "id": "f7c02d8d-36d1-47db-b20f-6f986420b4b3",
   "metadata": {},
   "outputs": [
    {
     "data": {
      "text/html": [
       "<div>\n",
       "<style scoped>\n",
       "    .dataframe tbody tr th:only-of-type {\n",
       "        vertical-align: middle;\n",
       "    }\n",
       "\n",
       "    .dataframe tbody tr th {\n",
       "        vertical-align: top;\n",
       "    }\n",
       "\n",
       "    .dataframe thead th {\n",
       "        text-align: right;\n",
       "    }\n",
       "</style>\n",
       "<table border=\"1\" class=\"dataframe\">\n",
       "  <thead>\n",
       "    <tr style=\"text-align: right;\">\n",
       "      <th></th>\n",
       "      <th>P_kbar_calc</th>\n",
       "      <th>T_K_calc</th>\n",
       "    </tr>\n",
       "  </thead>\n",
       "  <tbody>\n",
       "    <tr>\n",
       "      <th>0</th>\n",
       "      <td>1.912215</td>\n",
       "      <td>1358.772955</td>\n",
       "    </tr>\n",
       "    <tr>\n",
       "      <th>1</th>\n",
       "      <td>3.123857</td>\n",
       "      <td>1359.928076</td>\n",
       "    </tr>\n",
       "    <tr>\n",
       "      <th>2</th>\n",
       "      <td>4.297079</td>\n",
       "      <td>1370.659013</td>\n",
       "    </tr>\n",
       "    <tr>\n",
       "      <th>3</th>\n",
       "      <td>3.800811</td>\n",
       "      <td>1380.203044</td>\n",
       "    </tr>\n",
       "    <tr>\n",
       "      <th>4</th>\n",
       "      <td>3.641885</td>\n",
       "      <td>1371.292800</td>\n",
       "    </tr>\n",
       "    <tr>\n",
       "      <th>5</th>\n",
       "      <td>2.972244</td>\n",
       "      <td>1367.908005</td>\n",
       "    </tr>\n",
       "    <tr>\n",
       "      <th>6</th>\n",
       "      <td>6.127829</td>\n",
       "      <td>1410.724647</td>\n",
       "    </tr>\n",
       "    <tr>\n",
       "      <th>7</th>\n",
       "      <td>7.745770</td>\n",
       "      <td>1425.864743</td>\n",
       "    </tr>\n",
       "    <tr>\n",
       "      <th>8</th>\n",
       "      <td>9.516155</td>\n",
       "      <td>1463.505763</td>\n",
       "    </tr>\n",
       "    <tr>\n",
       "      <th>9</th>\n",
       "      <td>7.713396</td>\n",
       "      <td>1427.688587</td>\n",
       "    </tr>\n",
       "    <tr>\n",
       "      <th>10</th>\n",
       "      <td>5.667356</td>\n",
       "      <td>1412.115277</td>\n",
       "    </tr>\n",
       "    <tr>\n",
       "      <th>11</th>\n",
       "      <td>7.223749</td>\n",
       "      <td>1416.943223</td>\n",
       "    </tr>\n",
       "    <tr>\n",
       "      <th>12</th>\n",
       "      <td>8.149633</td>\n",
       "      <td>1428.081966</td>\n",
       "    </tr>\n",
       "  </tbody>\n",
       "</table>\n",
       "</div>"
      ],
      "text/plain": [
       "    P_kbar_calc     T_K_calc\n",
       "0      1.912215  1358.772955\n",
       "1      3.123857  1359.928076\n",
       "2      4.297079  1370.659013\n",
       "3      3.800811  1380.203044\n",
       "4      3.641885  1371.292800\n",
       "5      2.972244  1367.908005\n",
       "6      6.127829  1410.724647\n",
       "7      7.745770  1425.864743\n",
       "8      9.516155  1463.505763\n",
       "9      7.713396  1427.688587\n",
       "10     5.667356  1412.115277\n",
       "11     7.223749  1416.943223\n",
       "12     8.149633  1428.081966"
      ]
     },
     "execution_count": 7,
     "metadata": {},
     "output_type": "execute_result"
    }
   ],
   "source": [
    "PT_iter_Neave_33=pt.calculate_cpx_liq_press_temp(cpx_comps=Cpxs, liq_comps=Liqs, equationP=\"P_Neave2017\", equationT=\"T_Put2008_eq33\")\n",
    "PT_iter_Neave_33"
   ]
  },
  {
   "cell_type": "markdown",
   "id": "81a7ae8a-aac0-4064-92b4-d88dd3e4505e",
   "metadata": {},
   "source": [
    "These are the outputed temperatures and pressures for each crystal."
   ]
  },
  {
   "cell_type": "code",
   "execution_count": 10,
   "id": "48de2724-6fe4-4be5-9143-3dba5b7dd1c3",
   "metadata": {},
   "outputs": [
    {
     "data": {
      "text/plain": [
       "Text(0, 0.5, 'T (K)')"
      ]
     },
     "execution_count": 10,
     "metadata": {},
     "output_type": "execute_result"
    },
    {
     "data": {
      "image/png": "[encoded data removed]",
      "text/plain": [
       "<Figure size 432x288 with 1 Axes>"
      ]
     },
     "metadata": {
      "needs_background": "light"
     },
     "output_type": "display_data"
    }
   ],
   "source": [
    "plt.plot(PT_iter_Neave_33['P_kbar_calc'], PT_iter_Neave_33['T_K_calc'], 'ok')\n",
    "plt.xlabel('P (kbar)')\n",
    "plt.ylabel('T (K)')"
   ]
  },
  {
   "cell_type": "markdown",
   "id": "b1505fe0-d638-4a8f-8162-5421a9c40c03",
   "metadata": {},
   "source": [
    "This is the original graph the code output. In my research, I put the data into excel and manipulated it there to make a graph I liked better. For this final, I took the graph and manipulated it in this code below. "
   ]
  },
  {
   "cell_type": "code",
   "execution_count": 36,
   "id": "adf4aa0a-d333-416b-aac6-f898f7991d38",
   "metadata": {},
   "outputs": [
    {
     "data": {
      "text/plain": [
       "(0.0, 10.0)"
      ]
     },
     "execution_count": 36,
     "metadata": {},
     "output_type": "execute_result"
    },
    {
     "data": {
      "image/png": "[encoded data removed]",
      "text/plain": [
       "<Figure size 432x288 with 1 Axes>"
      ]
     },
     "metadata": {
      "needs_background": "light"
     },
     "output_type": "display_data"
    }
   ],
   "source": [
    "plt.plot(PT_iter_Neave_33['T_K_calc'], PT_iter_Neave_33['P_kbar_calc'], 'ok')\n",
    "y=PT_iter_Neave_33['P_kbar_calc']\n",
    "x=PT_iter_Neave_33['T_K_calc']\n",
    "plt.ylabel('P (kbar)')\n",
    "plt.xlabel('T (K)')\n",
    "plt.title('Thermobarometry population 2 ASW-30')\n",
    "plt.xlim([1300, 1500])\n",
    "plt.ylim([0, 10])\n"
   ]
  },
  {
   "cell_type": "markdown",
   "id": "a25890ed-af69-4930-967f-24ed00f1b56a",
   "metadata": {},
   "source": [
    "To manipulate this graph, I added a title, swithed the axes, and set an axis range. This graph shows the crystallization of clinopyroxene crystals in one of my rock samples (ASW-30). This graph shows that clinopyroxene crystals with specific characteristics (population 2), started to crystallize around 2 kilobars and 1360 degrees kelvin. \n"
   ]
  },
  {
   "cell_type": "code",
   "execution_count": null,
   "id": "d915a6ff-5962-4987-bdc7-08c017581791",
   "metadata": {},
   "outputs": [],
   "source": []
  }
 ],
 "metadata": {
  "kernelspec": {
   "display_name": "Python 3",
   "language": "python",
   "name": "python3"
  },
  "language_info": {
   "codemirror_mode": {
    "name": "ipython",
    "version": 3
   },
   "file_extension": ".py",
   "mimetype": "text/x-python",
   "name": "python",
   "nbconvert_exporter": "python",
   "pygments_lexer": "ipython3",
   "version": "3.8.8"
  }
 },
 "nbformat": 4,
 "nbformat_minor": 5
}
